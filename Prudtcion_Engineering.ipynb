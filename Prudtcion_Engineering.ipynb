{
  "nbformat": 4,
  "nbformat_minor": 0,
  "metadata": {
    "colab": {
      "provenance": [],
      "authorship_tag": "ABX9TyOIrtC038aClJ7Kpxcgw10m",
      "include_colab_link": true
    },
    "kernelspec": {
      "name": "python3",
      "display_name": "Python 3"
    },
    "language_info": {
      "name": "python"
    }
  },
  "cells": [
    {
      "cell_type": "markdown",
      "metadata": {
        "id": "view-in-github",
        "colab_type": "text"
      },
      "source": [
        "<a href=\"https://colab.research.google.com/github/arnabroy/50Algorithms/blob/main/Prudtcion_Engineering.ipynb\" target=\"_parent\"><img src=\"https://colab.research.google.com/assets/colab-badge.svg\" alt=\"Open In Colab\"/></a>"
      ]
    },
    {
      "cell_type": "markdown",
      "source": [
        "List"
      ],
      "metadata": {
        "id": "n34-S7N9dcCu"
      }
    },
    {
      "cell_type": "code",
      "execution_count": 1,
      "metadata": {
        "colab": {
          "base_uri": "https://localhost:8080/"
        },
        "id": "eczJJ2q1bt4S",
        "outputId": "07e9cfe2-8f55-46e7-da3b-a4dbd1da2ac6"
      },
      "outputs": [
        {
          "output_type": "stream",
          "name": "stdout",
          "text": [
            "hello\n"
          ]
        }
      ],
      "source": [
        "print(\"hello\")"
      ]
    },
    {
      "cell_type": "code",
      "source": [
        "fruit=[\"apple\",\"pear\",\"strawberry\"]"
      ],
      "metadata": {
        "id": "ymndbDHrcOje"
      },
      "execution_count": 2,
      "outputs": []
    },
    {
      "cell_type": "code",
      "source": [
        "type(fruit)"
      ],
      "metadata": {
        "colab": {
          "base_uri": "https://localhost:8080/"
        },
        "id": "DOWutwYRcYdl",
        "outputId": "03b221b8-23bc-4f01-a864-0ae4fd3fd7d6"
      },
      "execution_count": 3,
      "outputs": [
        {
          "output_type": "execute_result",
          "data": {
            "text/plain": [
              "list"
            ]
          },
          "metadata": {},
          "execution_count": 3
        }
      ]
    },
    {
      "cell_type": "code",
      "source": [
        "fruit[:-1]"
      ],
      "metadata": {
        "colab": {
          "base_uri": "https://localhost:8080/"
        },
        "id": "jI16O86QdEBE",
        "outputId": "457064eb-38a4-4a8c-95c7-f52971a2ef45"
      },
      "execution_count": 4,
      "outputs": [
        {
          "output_type": "execute_result",
          "data": {
            "text/plain": [
              "['apple', 'pear']"
            ]
          },
          "metadata": {},
          "execution_count": 4
        }
      ]
    },
    {
      "cell_type": "code",
      "source": [
        "for i in fruit:\n",
        "  print(f\"this is my fav fruit {i}\")"
      ],
      "metadata": {
        "colab": {
          "base_uri": "https://localhost:8080/"
        },
        "id": "-OvzlXlCdLM8",
        "outputId": "7f12d9b6-11c8-4e96-d560-c85741b51c6e"
      },
      "execution_count": 5,
      "outputs": [
        {
          "output_type": "stream",
          "name": "stdout",
          "text": [
            "this is my fav fruit apple\n",
            "this is my fav fruit pear\n",
            "this is my fav fruit strawberry\n"
          ]
        }
      ]
    },
    {
      "cell_type": "markdown",
      "source": [
        "Dict"
      ],
      "metadata": {
        "id": "pLTRv6pndvDX"
      }
    },
    {
      "cell_type": "code",
      "source": [
        "meal = {\"breaffast\":\"coffee\",\"lunch\":\"salad\",\"dinner\":\"rice\"}"
      ],
      "metadata": {
        "id": "hBMkd1a3d4bY"
      },
      "execution_count": 7,
      "outputs": []
    },
    {
      "cell_type": "code",
      "source": [
        "meal.keys()"
      ],
      "metadata": {
        "colab": {
          "base_uri": "https://localhost:8080/"
        },
        "id": "lGwFXOWreSUp",
        "outputId": "fd6b2f41-83ed-452f-ee05-4160c335a119"
      },
      "execution_count": 10,
      "outputs": [
        {
          "output_type": "execute_result",
          "data": {
            "text/plain": [
              "dict_values(['coffee', 'salad', 'rice'])"
            ]
          },
          "metadata": {},
          "execution_count": 10
        }
      ]
    },
    {
      "cell_type": "code",
      "source": [
        "meal.values()"
      ],
      "metadata": {
        "colab": {
          "base_uri": "https://localhost:8080/"
        },
        "id": "MxIoQX6ie0G6",
        "outputId": "5f5aebf3-1856-4004-f2ee-c9c1de5d370f"
      },
      "execution_count": 11,
      "outputs": [
        {
          "output_type": "execute_result",
          "data": {
            "text/plain": [
              "dict_values(['coffee', 'salad', 'rice'])"
            ]
          },
          "metadata": {},
          "execution_count": 11
        }
      ]
    },
    {
      "cell_type": "code",
      "source": [
        "for k,v in meal.items():\n",
        "  print(f\"in this meal {k} i like {v} \")"
      ],
      "metadata": {
        "colab": {
          "base_uri": "https://localhost:8080/"
        },
        "id": "dendGuYJe-rW",
        "outputId": "915b988c-1ea4-48d6-a510-67449acef02f"
      },
      "execution_count": 12,
      "outputs": [
        {
          "output_type": "stream",
          "name": "stdout",
          "text": [
            "in this meal breaffast i like coffee \n",
            "in this meal lunch i like salad \n",
            "in this meal dinner i like rice \n"
          ]
        }
      ]
    }
  ]
}